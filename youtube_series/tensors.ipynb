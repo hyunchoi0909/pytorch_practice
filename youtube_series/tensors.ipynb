{
 "cells": [
  {
   "cell_type": "code",
   "execution_count": 2,
   "id": "5cb786cf",
   "metadata": {},
   "outputs": [],
   "source": [
    "import torch\n",
    "import math"
   ]
  },
  {
   "cell_type": "code",
   "execution_count": 3,
   "id": "9e086fa2",
   "metadata": {},
   "outputs": [
    {
     "name": "stdout",
     "output_type": "stream",
     "text": [
      "<class 'torch.Tensor'>\n",
      "tensor([[0., 0., 0., 0.],\n",
      "        [0., 0., 0., 0.],\n",
      "        [0., 0., 0., 0.]])\n"
     ]
    }
   ],
   "source": [
    "x = torch.empty(3,4)\n",
    "print(type(x))\n",
    "print(x)"
   ]
  },
  {
   "cell_type": "code",
   "execution_count": 4,
   "id": "829a26e5",
   "metadata": {},
   "outputs": [
    {
     "name": "stdout",
     "output_type": "stream",
     "text": [
      "tensor([[0., 0., 0.],\n",
      "        [0., 0., 0.]])\n",
      "tensor([[1., 1., 1.],\n",
      "        [1., 1., 1.]])\n",
      "tensor([[0.3126, 0.3791, 0.3087],\n",
      "        [0.0736, 0.4216, 0.0691]])\n"
     ]
    }
   ],
   "source": [
    "zeros = torch.zeros(2,3)\n",
    "print(zeros)\n",
    "\n",
    "ones = torch.ones(2, 3)\n",
    "print(ones)\n",
    "\n",
    "torch.manual_seed(1729)\n",
    "random = torch.rand(2, 3)\n",
    "print(random)"
   ]
  },
  {
   "cell_type": "code",
   "execution_count": 5,
   "id": "627459c6",
   "metadata": {},
   "outputs": [
    {
     "name": "stdout",
     "output_type": "stream",
     "text": [
      "tensor([[0.3126, 0.3791, 0.3087],\n",
      "        [0.0736, 0.4216, 0.0691]])\n",
      "tensor([[0.2332, 0.4047, 0.2162],\n",
      "        [0.9927, 0.4128, 0.5938]])\n",
      "tensor([[0.3126, 0.3791, 0.3087],\n",
      "        [0.0736, 0.4216, 0.0691]])\n",
      "tensor([[0.2332, 0.4047, 0.2162],\n",
      "        [0.9927, 0.4128, 0.5938]])\n"
     ]
    }
   ],
   "source": [
    "torch.manual_seed(1729)\n",
    "random1 = torch.rand(2,3)\n",
    "print(random1)\n",
    "\n",
    "random2 = torch.rand(2, 3)\n",
    "print(random2)\n",
    "\n",
    "torch.manual_seed(1729)\n",
    "random3 = torch.rand(2, 3)\n",
    "print(random1)\n",
    "\n",
    "random4 = torch.rand(2,3)\n",
    "print(random4)"
   ]
  },
  {
   "cell_type": "code",
   "execution_count": 6,
   "id": "c03dac19",
   "metadata": {},
   "outputs": [
    {
     "name": "stdout",
     "output_type": "stream",
     "text": [
      "torch.Size([2, 2, 3])\n",
      "tensor([[[0., 0., 0.],\n",
      "         [0., 0., 0.]],\n",
      "\n",
      "        [[0., 0., 0.],\n",
      "         [0., 0., 0.]]])\n",
      "torch.Size([2, 2, 3])\n",
      "tensor([[[0., 0., 0.],\n",
      "         [0., 0., 0.]],\n",
      "\n",
      "        [[0., 0., 0.],\n",
      "         [0., 0., 0.]]])\n",
      "torch.Size([2, 2, 3])\n",
      "tensor([[[0., 0., 0.],\n",
      "         [0., 0., 0.]],\n",
      "\n",
      "        [[0., 0., 0.],\n",
      "         [0., 0., 0.]]])\n",
      "torch.Size([2, 2, 3])\n",
      "tensor([[[1., 1., 1.],\n",
      "         [1., 1., 1.]],\n",
      "\n",
      "        [[1., 1., 1.],\n",
      "         [1., 1., 1.]]])\n",
      "torch.Size([2, 2, 3])\n",
      "tensor([[[0.6128, 0.1519, 0.0453],\n",
      "         [0.5035, 0.9978, 0.3884]],\n",
      "\n",
      "        [[0.6929, 0.1703, 0.1384],\n",
      "         [0.4759, 0.7481, 0.0361]]])\n"
     ]
    }
   ],
   "source": [
    "x = torch.empty(2, 2, 3)\n",
    "print(x.shape)\n",
    "print(x)\n",
    "\n",
    "empty_like_x = torch.empty_like(x)\n",
    "print(empty_like_x.shape)\n",
    "print(empty_like_x)\n",
    "\n",
    "zeros_like_x = torch.zeros_like(x)\n",
    "print(zeros_like_x.shape)\n",
    "print(zeros_like_x)\n",
    "\n",
    "ones_like_x = torch.ones_like(x)\n",
    "print(ones_like_x.shape)\n",
    "print(ones_like_x)\n",
    "\n",
    "rand_like_x = torch.rand_like(x)\n",
    "print(rand_like_x.shape)\n",
    "print(rand_like_x)"
   ]
  },
  {
   "cell_type": "code",
   "execution_count": 7,
   "id": "84e2954b",
   "metadata": {},
   "outputs": [
    {
     "name": "stdout",
     "output_type": "stream",
     "text": [
      "tensor([[1, 2],\n",
      "        [3, 4]])\n",
      "tensor([1, 2, 3, 4, 5, 6])\n",
      "tensor([[2, 4, 6],\n",
      "        [3, 5, 7]])\n"
     ]
    }
   ],
   "source": [
    "some_constants = torch.tensor([[1,2],[3,4]])\n",
    "print(some_constants)\n",
    "\n",
    "some_integers = torch.tensor((1,2,3,4,5,6))\n",
    "print(some_integers)\n",
    "\n",
    "more_integers = torch.tensor(((2,4,6),[3,5,7]))\n",
    "print(more_integers)"
   ]
  },
  {
   "cell_type": "code",
   "execution_count": 8,
   "id": "b6647e3d",
   "metadata": {},
   "outputs": [
    {
     "name": "stdout",
     "output_type": "stream",
     "text": [
      "tensor([[1, 1, 1],\n",
      "        [1, 1, 1]], dtype=torch.int16)\n",
      "tensor([[ 0.9956,  1.4148,  5.8364],\n",
      "        [11.2406, 11.2083, 11.6692]], dtype=torch.float64)\n",
      "tensor([[ 0,  1,  5],\n",
      "        [11, 11, 11]], dtype=torch.int32)\n"
     ]
    }
   ],
   "source": [
    "a = torch.ones((2,3), dtype = torch.int16)\n",
    "print(a)\n",
    "\n",
    "b = torch.rand((2,3), dtype=torch.float64) * 20\n",
    "print(b)\n",
    "\n",
    "c = b.to(torch.int32)\n",
    "print(c)"
   ]
  },
  {
   "cell_type": "code",
   "execution_count": 9,
   "id": "f467eb6f",
   "metadata": {},
   "outputs": [
    {
     "name": "stdout",
     "output_type": "stream",
     "text": [
      "tensor([[1., 1.],\n",
      "        [1., 1.]])\n",
      "tensor([[2., 2.],\n",
      "        [2., 2.]])\n",
      "tensor([[3., 3.],\n",
      "        [3., 3.]])\n",
      "tensor([[4., 4.],\n",
      "        [4., 4.]])\n",
      "tensor([[1.4142, 1.4142],\n",
      "        [1.4142, 1.4142]])\n"
     ]
    }
   ],
   "source": [
    "ones = torch.zeros(2,2) + 1\n",
    "twos = torch.ones(2,2) * 2\n",
    "threes = (torch.ones(2,2) * 7 - 1) / 2\n",
    "fours = twos ** 2\n",
    "sqrt2s = twos ** 0.5\n",
    "\n",
    "print(ones)\n",
    "print(twos)\n",
    "print(threes)\n",
    "print(fours)\n",
    "print(sqrt2s)"
   ]
  },
  {
   "cell_type": "code",
   "execution_count": 10,
   "id": "50fc6840",
   "metadata": {},
   "outputs": [
    {
     "name": "stdout",
     "output_type": "stream",
     "text": [
      "tensor([[ 2.,  4.],\n",
      "        [ 8., 16.]])\n",
      "tensor([[5., 5.],\n",
      "        [5., 5.]])\n",
      "tensor([[12., 12.],\n",
      "        [12., 12.]])\n"
     ]
    }
   ],
   "source": [
    "powers2 = twos ** torch.tensor([[1,2],[3,4]])\n",
    "print(powers2)\n",
    "\n",
    "fives = ones + fours\n",
    "print(fives)\n",
    "\n",
    "dozens = threes * fours\n",
    "print(dozens)"
   ]
  },
  {
   "cell_type": "code",
   "execution_count": 3,
   "id": "525ec762",
   "metadata": {},
   "outputs": [
    {
     "ename": "RuntimeError",
     "evalue": "The size of tensor a (3) must match the size of tensor b (2) at non-singleton dimension 1",
     "output_type": "error",
     "traceback": [
      "\u001b[1;31m---------------------------------------------------------------------------\u001b[0m",
      "\u001b[1;31mRuntimeError\u001b[0m                              Traceback (most recent call last)",
      "Cell \u001b[1;32mIn[3], line 4\u001b[0m\n\u001b[0;32m      1\u001b[0m a \u001b[38;5;241m=\u001b[39m torch\u001b[38;5;241m.\u001b[39mrand(\u001b[38;5;241m2\u001b[39m,\u001b[38;5;241m3\u001b[39m)\n\u001b[0;32m      2\u001b[0m b \u001b[38;5;241m=\u001b[39m torch\u001b[38;5;241m.\u001b[39mrand(\u001b[38;5;241m3\u001b[39m,\u001b[38;5;241m2\u001b[39m)\n\u001b[1;32m----> 4\u001b[0m \u001b[38;5;28mprint\u001b[39m(\u001b[43ma\u001b[49m\u001b[38;5;241;43m*\u001b[39;49m\u001b[43mb\u001b[49m)\n",
      "\u001b[1;31mRuntimeError\u001b[0m: The size of tensor a (3) must match the size of tensor b (2) at non-singleton dimension 1"
     ]
    }
   ],
   "source": [
    "a = torch.rand(2,3)\n",
    "b = torch.rand(3,2)\n",
    "\n",
    "print(a*b)"
   ]
  },
  {
   "cell_type": "markdown",
   "id": "41f0ec15",
   "metadata": {},
   "source": [
    "### Tensor Broadcasting"
   ]
  },
  {
   "cell_type": "code",
   "execution_count": 5,
   "id": "a8a80154",
   "metadata": {},
   "outputs": [
    {
     "name": "stdout",
     "output_type": "stream",
     "text": [
      "tensor([[0.8567, 0.2347, 0.2062, 0.3179],\n",
      "        [0.6792, 0.8635, 0.5435, 0.8489]])\n",
      "tensor([[1.7134, 0.4694, 0.4124, 0.6357],\n",
      "        [1.3584, 1.7270, 1.0871, 1.6978]])\n"
     ]
    }
   ],
   "source": [
    "rand = torch.rand(2,4)\n",
    "doubled = rand * (torch.ones(1,4)*2)\n",
    "\n",
    "print(rand)\n",
    "print(doubled)"
   ]
  },
  {
   "cell_type": "code",
   "execution_count": 6,
   "id": "07d024c0",
   "metadata": {},
   "outputs": [],
   "source": [
    "a = torch.ones(4,3,2)\n",
    "\n",
    "b = a * torch.rand(3,2)\n",
    "\n",
    "c = a * torch.rand(3,1)\n",
    "\n",
    "d = a * torch.rand(1,2)"
   ]
  },
  {
   "cell_type": "code",
   "execution_count": 7,
   "id": "e087a8e3",
   "metadata": {},
   "outputs": [
    {
     "name": "stdout",
     "output_type": "stream",
     "text": [
      "tensor([[[0.2072, 0.1752],\n",
      "         [0.3074, 0.6551],\n",
      "         [0.0989, 0.8280]],\n",
      "\n",
      "        [[0.2072, 0.1752],\n",
      "         [0.3074, 0.6551],\n",
      "         [0.0989, 0.8280]],\n",
      "\n",
      "        [[0.2072, 0.1752],\n",
      "         [0.3074, 0.6551],\n",
      "         [0.0989, 0.8280]],\n",
      "\n",
      "        [[0.2072, 0.1752],\n",
      "         [0.3074, 0.6551],\n",
      "         [0.0989, 0.8280]]])\n",
      "tensor([[[0.8567, 0.8567],\n",
      "         [0.0159, 0.0159],\n",
      "         [0.6352, 0.6352]],\n",
      "\n",
      "        [[0.8567, 0.8567],\n",
      "         [0.0159, 0.0159],\n",
      "         [0.6352, 0.6352]],\n",
      "\n",
      "        [[0.8567, 0.8567],\n",
      "         [0.0159, 0.0159],\n",
      "         [0.6352, 0.6352]],\n",
      "\n",
      "        [[0.8567, 0.8567],\n",
      "         [0.0159, 0.0159],\n",
      "         [0.6352, 0.6352]]])\n",
      "tensor([[[0.8040, 0.5388],\n",
      "         [0.8040, 0.5388],\n",
      "         [0.8040, 0.5388]],\n",
      "\n",
      "        [[0.8040, 0.5388],\n",
      "         [0.8040, 0.5388],\n",
      "         [0.8040, 0.5388]],\n",
      "\n",
      "        [[0.8040, 0.5388],\n",
      "         [0.8040, 0.5388],\n",
      "         [0.8040, 0.5388]],\n",
      "\n",
      "        [[0.8040, 0.5388],\n",
      "         [0.8040, 0.5388],\n",
      "         [0.8040, 0.5388]]])\n"
     ]
    }
   ],
   "source": [
    "print(b)\n",
    "print(c)\n",
    "print(d)"
   ]
  },
  {
   "cell_type": "markdown",
   "id": "b90ad14c",
   "metadata": {},
   "source": [
    "### Others"
   ]
  },
  {
   "cell_type": "code",
   "execution_count": 9,
   "id": "d721892c",
   "metadata": {},
   "outputs": [
    {
     "name": "stdout",
     "output_type": "stream",
     "text": [
      "tensor([[ 0.1629,  0.1902, -0.2458,  0.3864],\n",
      "        [-0.3793,  0.9265, -0.3867, -0.7026]])\n",
      "tensor([[0.1629, 0.1902, 0.2458, 0.3864],\n",
      "        [0.3793, 0.9265, 0.3867, 0.7026]])\n",
      "tensor([[1., 1., -0., 1.],\n",
      "        [-0., 1., -0., -0.]])\n",
      "tensor([[ 0.,  0., -1.,  0.],\n",
      "        [-1.,  0., -1., -1.]])\n",
      "tensor([[ 0.1629,  0.1902, -0.2458,  0.3864],\n",
      "        [-0.3793,  0.5000, -0.3867, -0.5000]])\n"
     ]
    }
   ],
   "source": [
    "# Common functions\n",
    "a = torch.rand(2,4) * 2 -1\n",
    "print(a)\n",
    "print(torch.abs(a))\n",
    "print(torch.ceil(a))\n",
    "print(torch.floor(a))\n",
    "print(torch.clamp(a, -0.5, 0.5))"
   ]
  },
  {
   "cell_type": "code",
   "execution_count": 12,
   "id": "38f6b368",
   "metadata": {},
   "outputs": [
    {
     "name": "stdout",
     "output_type": "stream",
     "text": [
      "tensor([0.0000, 0.7854, 1.5708, 2.3562])\n",
      "tensor([0.0000, 0.7071, 1.0000, 0.7071])\n",
      "tensor([0.0000, 0.7854, 1.5708, 0.7854])\n"
     ]
    }
   ],
   "source": [
    "angles = torch.tensor([0, math.pi/4, math.pi/2, 3* math.pi/4])\n",
    "sines = torch.sin(angles)\n",
    "inverses = torch.asin(sines)\n",
    "print(angles)\n",
    "print(sines)\n",
    "print(inverses)"
   ]
  },
  {
   "cell_type": "code",
   "execution_count": 13,
   "id": "34eb732a",
   "metadata": {},
   "outputs": [
    {
     "name": "stdout",
     "output_type": "stream",
     "text": [
      "tensor([3, 2, 1])\n"
     ]
    }
   ],
   "source": [
    "b = torch.tensor([1,5,11])\n",
    "c = torch.tensor([2,7,10])\n",
    "print(torch.bitwise_xor(b,c))"
   ]
  },
  {
   "cell_type": "code",
   "execution_count": 14,
   "id": "219195a6",
   "metadata": {},
   "outputs": [
    {
     "name": "stdout",
     "output_type": "stream",
     "text": [
      "tensor([[ True, False],\n",
      "        [False, False]])\n"
     ]
    }
   ],
   "source": [
    "d = torch.tensor([[1.,2.],[3.,4.]])\n",
    "e = torch.ones(1,2)\n",
    "print(torch.eq(d,e))"
   ]
  },
  {
   "cell_type": "code",
   "execution_count": 16,
   "id": "feca053a",
   "metadata": {},
   "outputs": [
    {
     "name": "stdout",
     "output_type": "stream",
     "text": [
      "tensor(4.)\n",
      "4.0\n",
      "tensor(2.5000)\n",
      "tensor(1.2910)\n",
      "tensor(24.)\n",
      "tensor([1, 2])\n"
     ]
    }
   ],
   "source": [
    "print(torch.max(d))\n",
    "print(torch.max(d).item())\n",
    "print(torch.mean(d))\n",
    "print(torch.std(d))\n",
    "print(torch.prod(d))\n",
    "print(torch.unique(torch.tensor([1,2,1,2,1,2])))"
   ]
  },
  {
   "cell_type": "code",
   "execution_count": 17,
   "id": "c0a3b15e",
   "metadata": {},
   "outputs": [
    {
     "name": "stdout",
     "output_type": "stream",
     "text": [
      "tensor([ 0.,  0., -1.])\n",
      "tensor([[0.1118, 0.7626],\n",
      "        [0.4023, 0.2000]])\n",
      "tensor([[0.3354, 2.2879],\n",
      "        [1.2069, 0.6000]])\n",
      "torch.return_types.svd(\n",
      "U=tensor([[-0.9232, -0.3843],\n",
      "        [-0.3843,  0.9232]]),\n",
      "S=tensor([2.4672, 1.0376]),\n",
      "V=tensor([[-0.3135,  0.9496],\n",
      "        [-0.9496, -0.3135]]))\n"
     ]
    }
   ],
   "source": [
    "v1 = torch.tensor([1.,0.,0.])\n",
    "v2 = torch.tensor([0.,1.,0.])\n",
    "m1 = torch.rand(2,2)\n",
    "m2 = torch.tensor([[3.,0.],[0.,3.]])\n",
    "\n",
    "print(torch.cross(v2,v1))\n",
    "print(m1)\n",
    "m3 = torch.matmul(m1,m2)\n",
    "print(m3)\n",
    "print(torch.svd(m3))"
   ]
  },
  {
   "cell_type": "code",
   "execution_count": 19,
   "id": "8a1da5ad",
   "metadata": {},
   "outputs": [
    {
     "name": "stdout",
     "output_type": "stream",
     "text": [
      "a:\n",
      "tensor([0.0000, 0.7854, 1.5708, 2.3562])\n",
      "tensor([0.0000, 0.7071, 1.0000, 0.7071])\n",
      "tensor([0.0000, 0.7854, 1.5708, 2.3562])\n",
      "\n",
      "b:\n",
      "tensor([0.0000, 0.7854, 1.5708, 2.3562])\n",
      "tensor([0.0000, 0.7071, 1.0000, 0.7071])\n",
      "tensor([0.0000, 0.7071, 1.0000, 0.7071])\n"
     ]
    }
   ],
   "source": [
    "a = torch.tensor([0, math.pi/4, math.pi/2, 3* math.pi/4])\n",
    "print('a:')\n",
    "print(a)\n",
    "print(torch.sin(a))\n",
    "print(a)\n",
    "\n",
    "b = torch.tensor([0, math.pi/4, math.pi/2, 3* math.pi/4])\n",
    "print('\\nb:')\n",
    "print(b)\n",
    "print(torch.sin_(b))\n",
    "print(b)"
   ]
  },
  {
   "cell_type": "code",
   "execution_count": 20,
   "id": "81c1f730",
   "metadata": {},
   "outputs": [
    {
     "name": "stdout",
     "output_type": "stream",
     "text": [
      "Before:\n",
      "tensor([[1., 1.],\n",
      "        [1., 1.]])\n",
      "tensor([[0.2577, 0.7679],\n",
      "        [0.1754, 0.7394]])\n",
      "\n",
      "After adding:\n",
      "tensor([[1.2577, 1.7679],\n",
      "        [1.1754, 1.7394]])\n",
      "tensor([[1.2577, 1.7679],\n",
      "        [1.1754, 1.7394]])\n",
      "tensor([[0.2577, 0.7679],\n",
      "        [0.1754, 0.7394]])\n",
      "\n",
      "After multiplying\n",
      "tensor([[0.0664, 0.5897],\n",
      "        [0.0308, 0.5467]])\n",
      "tensor([[0.0664, 0.5897],\n",
      "        [0.0308, 0.5467]])\n"
     ]
    }
   ],
   "source": [
    "a = torch.ones(2, 2)\n",
    "b = torch.rand(2, 2)\n",
    "\n",
    "print('Before:')\n",
    "print(a)\n",
    "print(b)\n",
    "print('\\nAfter adding:')\n",
    "print(a.add_(b))\n",
    "print(a)\n",
    "print(b)\n",
    "print('\\nAfter multiplying')\n",
    "print(b.mul_(b))\n",
    "print(b)"
   ]
  },
  {
   "cell_type": "code",
   "execution_count": 21,
   "id": "369b4389",
   "metadata": {},
   "outputs": [
    {
     "name": "stdout",
     "output_type": "stream",
     "text": [
      "tensor([[0., 0.],\n",
      "        [0., 0.]])\n",
      "tensor([[0.3048, 0.3620],\n",
      "        [0.5641, 0.1755]])\n",
      "tensor([[0.2548, 0.4543],\n",
      "        [0.7937, 0.5769]])\n"
     ]
    }
   ],
   "source": [
    "a = torch.rand(2,2)\n",
    "b = torch.rand(2,2)\n",
    "c = torch.zeros(2,2)\n",
    "old_id = id(c)\n",
    "\n",
    "print(c)\n",
    "d = torch.matmul(a,b, out=c)\n",
    "print(c)\n",
    "\n",
    "assert c is d\n",
    "assert id(c) == old_id\n",
    "\n",
    "torch.rand(2,2, out=c)\n",
    "print(c)\n",
    "assert id(c) == old_id"
   ]
  },
  {
   "cell_type": "code",
   "execution_count": 22,
   "id": "11dd86d8",
   "metadata": {},
   "outputs": [
    {
     "name": "stdout",
     "output_type": "stream",
     "text": [
      "tensor([[True, True],\n",
      "        [True, True]])\n",
      "tensor([[1., 1.],\n",
      "        [1., 1.]])\n"
     ]
    }
   ],
   "source": [
    "a = torch.ones(2,2)\n",
    "b = a.clone()\n",
    "\n",
    "assert b is not a\n",
    "print(torch.eq(a,b))\n",
    "\n",
    "a[0][1] = 561\n",
    "print(b)"
   ]
  },
  {
   "cell_type": "code",
   "execution_count": 23,
   "id": "d74be189",
   "metadata": {},
   "outputs": [
    {
     "name": "stdout",
     "output_type": "stream",
     "text": [
      "We have a GPU\n"
     ]
    }
   ],
   "source": [
    "if torch.cuda.is_available():\n",
    "    print(\"We have a GPU\")\n",
    "else:\n",
    "    print(\"No GPU\")"
   ]
  },
  {
   "cell_type": "code",
   "execution_count": 24,
   "id": "51445a75",
   "metadata": {},
   "outputs": [
    {
     "name": "stdout",
     "output_type": "stream",
     "text": [
      "tensor([[0.4779, 0.1487],\n",
      "        [0.2155, 0.8675]], device='cuda:0')\n"
     ]
    }
   ],
   "source": [
    "if torch.cuda.is_available():\n",
    "    gpu_rand = torch.rand(2,2, device='cuda')\n",
    "    print(gpu_rand)\n",
    "else:\n",
    "    print(\"No GPU\")"
   ]
  },
  {
   "cell_type": "code",
   "execution_count": 26,
   "id": "217bac49",
   "metadata": {},
   "outputs": [
    {
     "name": "stdout",
     "output_type": "stream",
     "text": [
      "Device: cuda\n",
      "tensor([[0.9625, 0.3661],\n",
      "        [0.7334, 0.0705]], device='cuda:0')\n"
     ]
    }
   ],
   "source": [
    "if torch.cuda.is_available():\n",
    "    my_device = torch.device('cuda')\n",
    "else:\n",
    "    my_device = torch.device('cpu')\n",
    "print('Device: {}'.format(my_device))\n",
    "\n",
    "x = torch.rand(2,2, device = my_device)\n",
    "print(x)"
   ]
  },
  {
   "cell_type": "code",
   "execution_count": 27,
   "id": "de24c284",
   "metadata": {},
   "outputs": [],
   "source": [
    "y = torch.rand(2,2)\n",
    "y = y.to(my_device)"
   ]
  },
  {
   "cell_type": "code",
   "execution_count": 28,
   "id": "a04d49a8",
   "metadata": {},
   "outputs": [
    {
     "ename": "RuntimeError",
     "evalue": "Expected one of cpu, cuda, ipu, xpu, mkldnn, opengl, opencl, ideep, hip, ve, fpga, ort, xla, lazy, vulkan, mps, meta, hpu, mtia, privateuseone device type at start of device string: gpu",
     "output_type": "error",
     "traceback": [
      "\u001b[1;31m---------------------------------------------------------------------------\u001b[0m",
      "\u001b[1;31mRuntimeError\u001b[0m                              Traceback (most recent call last)",
      "Cell \u001b[1;32mIn[28], line 2\u001b[0m\n\u001b[0;32m      1\u001b[0m x \u001b[38;5;241m=\u001b[39m torch\u001b[38;5;241m.\u001b[39mrand(\u001b[38;5;241m2\u001b[39m,\u001b[38;5;241m2\u001b[39m)\n\u001b[1;32m----> 2\u001b[0m y \u001b[38;5;241m=\u001b[39m \u001b[43mtorch\u001b[49m\u001b[38;5;241;43m.\u001b[39;49m\u001b[43mrand\u001b[49m\u001b[43m(\u001b[49m\u001b[38;5;241;43m2\u001b[39;49m\u001b[43m,\u001b[49m\u001b[38;5;241;43m2\u001b[39;49m\u001b[43m,\u001b[49m\u001b[43m \u001b[49m\u001b[43mdevice\u001b[49m\u001b[38;5;241;43m=\u001b[39;49m\u001b[38;5;124;43m'\u001b[39;49m\u001b[38;5;124;43mgpu\u001b[39;49m\u001b[38;5;124;43m'\u001b[39;49m\u001b[43m)\u001b[49m\n\u001b[0;32m      3\u001b[0m z \u001b[38;5;241m=\u001b[39m x \u001b[38;5;241m+\u001b[39m y\n",
      "\u001b[1;31mRuntimeError\u001b[0m: Expected one of cpu, cuda, ipu, xpu, mkldnn, opengl, opencl, ideep, hip, ve, fpga, ort, xla, lazy, vulkan, mps, meta, hpu, mtia, privateuseone device type at start of device string: gpu"
     ]
    }
   ],
   "source": [
    "x = torch.rand(2,2)\n",
    "y = torch.rand(2,2, device='gpu')\n",
    "z = x + y"
   ]
  },
  {
   "cell_type": "code",
   "execution_count": 29,
   "id": "b1786784",
   "metadata": {},
   "outputs": [
    {
     "name": "stdout",
     "output_type": "stream",
     "text": [
      "torch.Size([3, 226, 226])\n",
      "torch.Size([1, 3, 226, 226])\n"
     ]
    }
   ],
   "source": [
    "a = torch.rand(3,226,226)\n",
    "b = a.unsqueeze(0)\n",
    "\n",
    "print(a.shape)\n",
    "print(b.shape)"
   ]
  },
  {
   "cell_type": "code",
   "execution_count": 30,
   "id": "ef9e42f3",
   "metadata": {},
   "outputs": [
    {
     "name": "stdout",
     "output_type": "stream",
     "text": [
      "tensor([[[[[0.9872]]]]])\n"
     ]
    }
   ],
   "source": [
    "c = torch.rand(1,1,1,1,1)\n",
    "print(c)"
   ]
  },
  {
   "cell_type": "code",
   "execution_count": 31,
   "id": "9e3b9eba",
   "metadata": {},
   "outputs": [
    {
     "name": "stdout",
     "output_type": "stream",
     "text": [
      "torch.Size([1, 20])\n",
      "tensor([[0.0851, 0.2478, 0.5658, 0.4555, 0.5187, 0.4111, 0.0284, 0.5268, 0.1407,\n",
      "         0.4657, 0.5530, 0.9280, 0.6236, 0.5601, 0.7731, 0.2245, 0.2487, 0.0698,\n",
      "         0.3087, 0.8687]])\n",
      "torch.Size([20])\n",
      "tensor([0.0851, 0.2478, 0.5658, 0.4555, 0.5187, 0.4111, 0.0284, 0.5268, 0.1407,\n",
      "        0.4657, 0.5530, 0.9280, 0.6236, 0.5601, 0.7731, 0.2245, 0.2487, 0.0698,\n",
      "        0.3087, 0.8687])\n",
      "torch.Size([2, 2])\n",
      "torch.Size([2, 2])\n"
     ]
    }
   ],
   "source": [
    "a = torch.rand(1,20)\n",
    "print(a.shape)\n",
    "print(a)\n",
    "\n",
    "b = a.squeeze(0)\n",
    "print(b.shape)\n",
    "print(b)\n",
    "\n",
    "c = torch.rand(2,2)\n",
    "print(c.shape)\n",
    "\n",
    "d = c.squeeze(0)\n",
    "print(d.shape)"
   ]
  },
  {
   "cell_type": "code",
   "execution_count": 32,
   "id": "7e92865b",
   "metadata": {},
   "outputs": [
    {
     "name": "stdout",
     "output_type": "stream",
     "text": [
      "[[1. 1. 1.]\n",
      " [1. 1. 1.]]\n",
      "tensor([[1., 1., 1.],\n",
      "        [1., 1., 1.]], dtype=torch.float64)\n"
     ]
    }
   ],
   "source": [
    "import numpy as np\n",
    "\n",
    "numpy_array = np.ones((2,3))\n",
    "print(numpy_array)\n",
    "\n",
    "pytorch_tensor = torch.from_numpy(numpy_array)\n",
    "print(pytorch_tensor)"
   ]
  },
  {
   "cell_type": "code",
   "execution_count": 33,
   "id": "d4d5a5f9",
   "metadata": {},
   "outputs": [
    {
     "name": "stdout",
     "output_type": "stream",
     "text": [
      "tensor([[0.1220, 0.1056, 0.9174],\n",
      "        [0.3648, 0.0864, 0.3546]])\n",
      "[[0.12204474 0.10557806 0.9173783 ]\n",
      " [0.36484706 0.08637154 0.35460675]]\n"
     ]
    }
   ],
   "source": [
    "pytorch_rand = torch.rand(2,3)\n",
    "print(pytorch_rand)\n",
    "\n",
    "numpy_rand = pytorch_rand.numpy()\n",
    "print(numpy_rand)"
   ]
  },
  {
   "cell_type": "code",
   "execution_count": 34,
   "id": "df59f35d",
   "metadata": {},
   "outputs": [
    {
     "name": "stdout",
     "output_type": "stream",
     "text": [
      "tensor([[ 1.,  1.,  1.],\n",
      "        [ 1., 23.,  1.]], dtype=torch.float64)\n",
      "[[ 0.12204474  0.10557806  0.9173783 ]\n",
      " [ 0.36484706 17.          0.35460675]]\n"
     ]
    }
   ],
   "source": [
    "numpy_array[1,1] = 23\n",
    "print(pytorch_tensor)\n",
    "\n",
    "pytorch_rand[1,1] = 17\n",
    "print(numpy_rand)"
   ]
  },
  {
   "cell_type": "code",
   "execution_count": null,
   "id": "f6127e8e",
   "metadata": {},
   "outputs": [],
   "source": []
  }
 ],
 "metadata": {
  "kernelspec": {
   "display_name": "Python 3 (ipykernel)",
   "language": "python",
   "name": "python3"
  },
  "language_info": {
   "codemirror_mode": {
    "name": "ipython",
    "version": 3
   },
   "file_extension": ".py",
   "mimetype": "text/x-python",
   "name": "python",
   "nbconvert_exporter": "python",
   "pygments_lexer": "ipython3",
   "version": "3.10.12"
  }
 },
 "nbformat": 4,
 "nbformat_minor": 5
}
